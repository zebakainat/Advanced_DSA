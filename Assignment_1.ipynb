{
  "metadata": {
    "language_info": {
      "codemirror_mode": {
        "name": "python",
        "version": 3
      },
      "file_extension": ".py",
      "mimetype": "text/x-python",
      "name": "python",
      "nbconvert_exporter": "python",
      "pygments_lexer": "ipython3",
      "version": "3.8"
    },
    "kernelspec": {
      "name": "python",
      "display_name": "Pyolite",
      "language": "python"
    }
  },
  "nbformat_minor": 4,
  "nbformat": 4,
  "cells": [
    {
      "cell_type": "code",
      "source": "# 1. Delete the elements in an linked list whose sum is equal to zero\n\nclass Node():\n  def __init__(self,data):\n     self.data = data\n     self.next = None\n\nclass Linkedlist():\n   def __init__(self):\n     self.head = None\n    \n   def append(self,data):\n     new_node = Node(data)\n     h = self.head\n     if self.head is None:\n         self.head = new_node\n         return\n     else:\n         while h.next!=None:\n             h = h.next\n         h.next = new_node\n\n   def remove_zeros_from_linkedlist(self, head):\n     stack = []\n     curr = head\n     list = []\n     while (curr):\n         if curr.data >= 0:\n             stack.append(curr)\n         else:\n             temp = curr\n             sum = temp.data\n             flag = False\n             while (len(stack) != 0):\n                 temp2 = stack.pop()\n                 sum += temp2.data\n                 if sum == 0:\n                     flag = True\n                     list = []\n                     break\n                 elif sum > 0:\n                     list.append(temp2)\n             if not flag:\n                 if len(list) > 0:\n                     for i in range(len(list)):\n                         stack.append(list.pop())\n                 stack.append(temp)\n         curr = curr.next\n     return [i.data for i in stack]\n\nif __name__ == \"__main__\":\n l = Linkedlist()\n\n l.append(4)\n l.append(6)\n l.append(-10)\n l.append(8)\n l.append(9)\n l.append(10)\n l.append(-19)\n l.append(10)\n l.append(-18)\n l.append(20)\n l.append(25)\n print(l.remove_zeros_from_linkedlist(l.head))",
      "metadata": {
        "trusted": true
      },
      "execution_count": 23,
      "outputs": [
        {
          "name": "stdout",
          "text": "[20, 25]\n",
          "output_type": "stream"
        }
      ]
    },
    {
      "cell_type": "code",
      "source": "",
      "metadata": {},
      "execution_count": null,
      "outputs": []
    },
    {
      "cell_type": "code",
      "source": "# 2. Reverse a linked list in groups of given size\n\nclass Node:\n \n    \n    def __init__(self, data):\n        self.data = data\n        self.next = None\n \n \nclass LinkedList:\n \n    \n    def __init__(self):\n        self.head = None\n \n    def reverse(self, head, k):\n       \n        if head == None:\n          return None\n        current = head\n        next = None\n        prev = None\n        count = 0\n \n        \n        while(current is not None and count < k):\n            next = current.next\n            current.next = prev\n            prev = current\n            current = next\n            count += 1\n \n        \n        if next is not None:\n            head.next = self.reverse(next, k)\n \n        \n        return prev\n \n    \n    def push(self, new_data):\n        new_node = Node(new_data)\n        new_node.next = self.head\n        self.head = new_node\n \n    \n    def printList(self):\n        temp = self.head\n        while(temp):\n            print(temp.data,end=' ')\n            temp = temp.next\n \n \n\nllist = LinkedList()\nllist.push(9)\nllist.push(8)\nllist.push(7)\nllist.push(6)\nllist.push(5)\nllist.push(4)\nllist.push(3)\nllist.push(2)\nllist.push(1)\n \nprint(\"Given linked list\")\nllist.printList()\nllist.head = llist.reverse(llist.head, 3)\n \nprint (\"\\nReversed Linked list\")\nllist.printList()",
      "metadata": {
        "trusted": true
      },
      "execution_count": 24,
      "outputs": [
        {
          "name": "stdout",
          "text": "Given linked list\n1 2 3 4 5 6 7 8 9 \nReversed Linked list\n3 2 1 6 5 4 9 8 7 ",
          "output_type": "stream"
        }
      ]
    },
    {
      "cell_type": "code",
      "source": "# 3. Merge a linked list into another linked list at alternate positions.\n\nclass Node(object):\n\tdef __init__(self, data:int):\n\t\tself.data = data\n\t\tself.next = None\n\n\nclass LinkedList(object):\n\tdef __init__(self):\n\t\tself.head = None\n\t\t\n\tdef push(self, new_data:int):\n\t\tnew_node = Node(new_data)\n\t\tnew_node.next = self.head\n\n\t\tself.head = new_node\n\n\tdef printList(self):\n\t\ttemp = self.head\n\t\twhile temp != None:\n\t\t\tprint(temp.data)\n\t\t\ttemp = temp.next\n\n\tdef merge(self, p, q):\n\t\tp_curr = p.head\n\t\tq_curr = q.head\n\n\t\twhile p_curr != None and q_curr != None:\n\n\n\t\t\tp_next = p_curr.next\n\t\t\tq_next = q_curr.next\n\n\t\t\t\n\t\t\tq_curr.next = p_next \n\t\t\tp_curr.next = q_curr \n\n\t\t\t\n\t\t\tp_curr = p_next\n\t\t\tq_curr = q_next\n\t\t\tq.head = q_curr\n\n\n\n\nllist1 = LinkedList()\nllist2 = LinkedList()\nllist1.push(3)\nllist1.push(2)\nllist1.push(1)\nllist1.push(0)\n\n\nfor i in range(8, 3, -1):\n\tllist2.push(i)\n\nprint(\"First Linked List:\")\nllist1.printList()\n\nprint(\"Second Linked List:\")\nllist2.printList()\n\n\nllist1.merge(p=llist1, q=llist2)\n\nprint(\"Modified first linked list:\")\nllist1.printList()\n\nprint(\"Modified second linked list:\")\nllist2.printList()",
      "metadata": {
        "trusted": true
      },
      "execution_count": 25,
      "outputs": [
        {
          "name": "stdout",
          "text": "First Linked List:\n0\n1\n2\n3\nSecond Linked List:\n4\n5\n6\n7\n8\nModified first linked list:\n0\n4\n1\n5\n2\n6\n3\n7\nModified second linked list:\n8\n",
          "output_type": "stream"
        }
      ]
    },
    {
      "cell_type": "code",
      "source": "# 4. In an array, Count Pairs with given sum\n\ndef getPairsCount(arr, n, sum):\n\n\tcount = 0 \n\n\n\tfor i in range(0, n):\n\t\tfor j in range(i + 1, n):\n\t\t\tif arr[i] + arr[j] == sum:\n\t\t\t\tcount += 1\n\n\treturn count\n\narr = [1, 5, 7, -1, 5]\nn = len(arr)\nsum = 6\nprint(\"Count of pairs is\",\ngetPairsCount(arr, n, sum))\n\n\n",
      "metadata": {
        "trusted": true
      },
      "execution_count": 26,
      "outputs": [
        {
          "name": "stdout",
          "text": "Count of pairs is 3\n",
          "output_type": "stream"
        }
      ]
    },
    {
      "cell_type": "code",
      "source": "# 5. Find duplicates in an array\n\narr = [1, 2, 3, 4, 2, 7, 8, 8, 3];     \n     \nprint(\"Duplicate elements in given array: \");        \nfor i in range(0, len(arr)):    \n    for j in range(i+1, len(arr)):    \n        if(arr[i] == arr[j]):    \n            print(arr[j]);    ",
      "metadata": {
        "trusted": true
      },
      "execution_count": 27,
      "outputs": [
        {
          "name": "stdout",
          "text": "Duplicate elements in given array: \n2\n3\n8\n",
          "output_type": "stream"
        }
      ]
    },
    {
      "cell_type": "code",
      "source": "# 6. Find the Kth largest and Kth smallest number in an array\n\ndef kthSmallest(arr, n, k):\n    arr.sort()\n\n    return arr[k-1]\n \nif __name__=='__main__':\n    arr = [12, 3, 5, 7, 19]\n    n = len(arr)\n    k = 2\n    print(\"K'th smallest element is\",\n          kthSmallest(arr, n, k))",
      "metadata": {
        "trusted": true
      },
      "execution_count": 28,
      "outputs": [
        {
          "name": "stdout",
          "text": "K'th smallest element is 5\n",
          "output_type": "stream"
        }
      ]
    },
    {
      "cell_type": "code",
      "source": "# 7. Move all the negative elements to one side of the array\n\ndef find(arr):\n    arr.sort(reverse=True)\n    print(\"Array after moving all the elements to right:\", arr)\n\n\narray = [1, 3, -1, 4, -3, -5, -6, 3, 7]\nfind(array)",
      "metadata": {
        "trusted": true
      },
      "execution_count": 29,
      "outputs": [
        {
          "name": "stdout",
          "text": "Array after moving all the elements to right: [7, 4, 3, 3, 1, -1, -3, -5, -6]\n",
          "output_type": "stream"
        }
      ]
    },
    {
      "cell_type": "code",
      "source": "# 8. Reverse a string using a stack data structure\n\nclass Stack:\n\n\n\tdef __init__(self):\n\t\tself.Elements = []\n\n\tdef push(self, value):\n\t\tself.Elements.append(value)\n\n\tdef pop(self):\n\t\treturn self.Elements.pop()\n\n\tdef empty(self):\n\t\treturn self.Elements == []\n\n\tdef show(self):\n\t\tfor value in reversed(self.Elements):\n\t\t\tprint(value)\n\ndef BottomInsert(s, value):\n\n\n\tif s.empty():\n\n\t\ts.push(value)\n\telse:\n\t\tpopped = s.pop()\n\t\tBottomInsert(s, value)\n\t\ts.push(popped)\n\n\ndef Reverse(s):\n\tif s.empty():\n\t\tpass\n\telse:\n\t\tpopped = s.pop()\n\t\tReverse(s)\n\t\tBottomInsert(s, popped)\n\nstk = Stack()\n\nstk.push(1)\nstk.push(2)\nstk.push(3)\nstk.push(4)\nstk.push(5)\n\nprint(\"Original Stack\")\nstk.show()\n\nprint(\"\\nStack after Reversing\")\nReverse(stk)\nstk.show()\n\n\n     ",
      "metadata": {
        "trusted": true
      },
      "execution_count": 30,
      "outputs": [
        {
          "name": "stdout",
          "text": "Original Stack\n5\n4\n3\n2\n1\n\nStack after Reversing\n1\n2\n3\n4\n5\n",
          "output_type": "stream"
        }
      ]
    },
    {
      "cell_type": "code",
      "source": "# 9. Evaluate a postfix expression using stack\n\nclass StackNode :\n\tdef __init__(self, operand, top) :\n\t\tself.operand = operand\n\t\tself.next = top\n\nclass MyStack :\n\tdef __init__(self) :\n\t\tself.top = None\n\t\tself.count = 0\n\tdef isSize(self) :\n\t\treturn self.count\n\t\n\tdef isEmpty(self) :\n\t\tif (self.isSize() > 0) :\n\t\t\treturn False\n\t\telse :\n\t\t\treturn True\n\t\t\n\n\tdef push(self, value) :\n\t\tself.top = StackNode(value, self.top)\n\t\tself.count += 1\n\n\tdef pop(self) :\n\t\tvalue = self.peek()\n\t\tif (self.isEmpty() == False) :\n\t\t\tself.top = self.top.next\n\t\t\tself.count -= 1\n\t\treturn value\n\tdef peek(self) :\n\t\tif (not self.isEmpty()) :\n\t\t\treturn self.top.operand\n\t\telse :\n\t\t\treturn 0\n\t\t\n\t\n\nclass Execution :\n\tdef evaluate(self, e) :\n\t\tsize = len(e)\n\t\ta = 0\n\t\tb = 0\n\t\ts = MyStack()\n\t\tisVaild = True\n\t\ti = 0\n\t\twhile (i < size and isVaild) :\n\t\t\tif (e[i] >= '0'\n\t\t\t\tand e[i] <= '9') :\n\t\t\t\ta = ord(e[i]) - ord('0')\n\t\t\t\ts.push(a)\n\t\t\telif (s.isSize() > 1) :\n\t\t\t\ta = s.pop()\n\t\t\t\tb = s.pop()\n\t\t\t\tif (e[i] == '+') :\n\t\t\t\t\ts.push(b + a)\n\t\t\t\telif (e[i] == '-') :\n\t\t\t\t\ts.push(b - a)\n\t\t\t\telif (e[i] == '*') :\n\t\t\t\t\ts.push(b * a)\n\t\t\t\telif (e[i] == '/') :\n\t\t\t\t\ts.push(int(b / a))\n\t\t\t\telif (e[i] == '%') :\n\t\t\t\t\ts.push(b % a)\n\t\t\t\telse :\n\t\t\t\t\tisVaild = False\n\t\t\t\t\n\t\t\telif (s.isSize() == 1) :\n\t\t\t\tif (e[i] == '-') :\n\t\t\t\t\ta = s.pop()\n\t\t\t\t\ts.push(-a)\n\t\t\t\telif (e[i] != '+') :\n\t\t\t\t\tisVaild = False\n\t\t\t\t\n\t\t\telse :\n\t\t\t\tisVaild = False\n\t\t\t\n\t\t\ti += 1\n\t\t\n\t\tif (isVaild == False) :\n\t\t\tprint(e ,\" Invalid expression \")\n\t\t\treturn\n\t\t\n\t\tprint(e ,\" = \", s.pop())\n\t\n\ndef main() :\n\ttask = Execution()\n\ttask.evaluate(\"12+35+*\")\n\ttask.evaluate(\"72*62/+4+-\")\n\nif __name__ == \"__main__\": main()",
      "metadata": {
        "trusted": true
      },
      "execution_count": 31,
      "outputs": [
        {
          "name": "stdout",
          "text": "12+35+*  =  24\n72*62/+4+-  =  -21\n",
          "output_type": "stream"
        }
      ]
    },
    {
      "cell_type": "code",
      "source": "# 10. Implement a queue using the stack data structure\n\nclass Queue:\n\tdef __init__(self):\n\t\tself.s1 = []\n\t\tself.s2 = []\n\n\tdef enQueue(self, x):\n\t\tself.s1.append(x)\n\n\tdef deQueue(self):\n\n\t\tif len(self.s1) == 0 and len(self.s2) == 0:\n\t\t\tprint(\"Q is Empty\")\n\t\t\treturn\n\n\t\telif len(self.s2) == 0 and len(self.s1) > 0:\n\t\t\twhile len(self.s1):\n\t\t\t\ttemp = self.s1.pop()\n\t\t\t\tself.s2.append(temp)\n\t\t\treturn self.s2.pop()\n\n\t\telse:\n\t\t\treturn self.s2.pop()\n\n\nif __name__ == '__main__':\n\tq = Queue()\n\tq.enQueue(1)\n\tq.enQueue(2)\n\tq.enQueue(3)\n\n\tprint(q.deQueue())\n\tprint(q.deQueue())\n\tprint(q.deQueue())\n",
      "metadata": {
        "trusted": true
      },
      "execution_count": 32,
      "outputs": [
        {
          "name": "stdout",
          "text": "1\n2\n3\n",
          "output_type": "stream"
        }
      ]
    },
    {
      "cell_type": "code",
      "source": "",
      "metadata": {},
      "execution_count": null,
      "outputs": []
    }
  ]
}