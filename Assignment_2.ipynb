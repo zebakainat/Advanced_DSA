{
  "metadata": {
    "language_info": {
      "codemirror_mode": {
        "name": "python",
        "version": 3
      },
      "file_extension": ".py",
      "mimetype": "text/x-python",
      "name": "python",
      "nbconvert_exporter": "python",
      "pygments_lexer": "ipython3",
      "version": "3.8"
    },
    "kernelspec": {
      "name": "python",
      "display_name": "Pyolite",
      "language": "python"
    }
  },
  "nbformat_minor": 4,
  "nbformat": 4,
  "cells": [
    {
      "cell_type": "code",
      "source": "# 1 . Implement Binary Search\n\ndef binary_search(arr, a, low, high):\n\n    while low <= high:\n\n        mid = low + (high - low)//2\n\n        if arr[mid] == a:\n            return mid\n\n        elif array[mid] < a:\n            low = mid + 1\n\n        else:\n            high = mid - 1\n\n    return -1\n\narr = [1, 2, 3, 4, 5, 6, 7]\na = 4\n\nprint(\"The given array is\", arr)\n\nprint(\"Element to be found is \", a)\n\nindex = binary_search(arr, a, 0, len(arr)-1)\n\nif index != -1:\n    print(\"The Index of the element is \" + str(index))\nelse:\n    print(\"Element Not found\")",
      "metadata": {
        "trusted": true
      },
      "execution_count": 1,
      "outputs": [
        {
          "name": "stdout",
          "text": "The given array is [1, 2, 3, 4, 5, 6, 7]\nElement to be found is  4\nThe Index of the element is 3\n",
          "output_type": "stream"
        }
      ]
    },
    {
      "cell_type": "code",
      "source": "# 2. Implement Merge Sort\n\n\n\ndef merge(arr, l, m, r):\n\tn1 = m - l + 1\n\tn2 = r - m\n\n\n\tL = [0] * (n1)\n\tR = [0] * (n2)\n\n\tfor i in range(0, n1):\n\t\tL[i] = arr[l + i]\n\n\tfor j in range(0, n2):\n\t\tR[j] = arr[m + 1 + j]\n\n\ti = 0\t \n\tj = 0\t \n\tk = l\t \n\n\twhile i < n1 and j < n2:\n\t\tif L[i] <= R[j]:\n\t\t\tarr[k] = L[i]\n\t\t\ti += 1\n\t\telse:\n\t\t\tarr[k] = R[j]\n\t\t\tj += 1\n\t\tk += 1\n\n\twhile i < n1:\n\t\tarr[k] = L[i]\n\t\ti += 1\n\t\tk += 1\n\n\twhile j < n2:\n\t\tarr[k] = R[j]\n\t\tj += 1\n\t\tk += 1\n\ndef mergeSort(arr, l, r):\n\tif l < r:\n\n\t\tm = l+(r-l)//2\n\n\n\t\tmergeSort(arr, l, m)\n\t\tmergeSort(arr, m+1, r)\n\t\tmerge(arr, l, m, r)\n\narr = [12, 11, 13, 5, 6, 7]\nn = len(arr)\nprint(\"Given array is\")\nfor i in range(n):\n\tprint(\"%d\" % arr[i],end=\" \")\n\nmergeSort(arr, 0, n-1)\nprint(\"\\n\\nSorted array is\")\nfor i in range(n):\n\tprint(\"%d\" % arr[i],end=\" \")\n\n\n",
      "metadata": {
        "trusted": true
      },
      "execution_count": 2,
      "outputs": [
        {
          "name": "stdout",
          "text": "Given array is\n12 11 13 5 6 7 \n\nSorted array is\n5 6 7 11 12 13 ",
          "output_type": "stream"
        }
      ]
    },
    {
      "cell_type": "code",
      "source": "# 3. Implement Quick Sort\n\ndef partition(arr, low, high):\n\ti = (low-1)\n\tpivot = arr[high]\t # pivot\n\n\tfor j in range(low, high):\n\n\t\tif arr[j] <= pivot:\n\t\t\ti = i+1\n\t\t\tarr[i], arr[j] = arr[j], arr[i]\n\n\tarr[i+1], arr[high] = arr[high], arr[i+1]\n\treturn (i+1)\n\n\n\ndef quickSort(arr, low, high):\n\tif len(arr) == 1:\n\t\treturn arr\n\tif low < high:\n\n\t\tpi = partition(arr, low, high)\n\n\t\tquickSort(arr, low, pi-1)\n\t\tquickSort(arr, pi+1, high)\n\n# Driver code to test above\narr = [10, 7, 8, 9, 1, 5]\nn = len(arr)\nquickSort(arr, 0, n-1)\nprint(\"Sorted array is:\")\nfor i in range(n):\n\tprint(\"%d\" % arr[i])",
      "metadata": {
        "trusted": true
      },
      "execution_count": null,
      "outputs": []
    },
    {
      "cell_type": "code",
      "source": "# 4. Implement Insertion Sort\n\ndef insertionSort(arr):\n\n\tfor i in range(1, len(arr)):\n\n\t\tkey = arr[i]\n\n\t\tj = i-1\n\t\twhile j >=0 and key < arr[j] :\n\t\t\t\tarr[j+1] = arr[j]\n\t\t\t\tj -= 1\n\t\tarr[j+1] = key\n\n\narr = [12, 11, 13, 5, 6]\ninsertionSort(arr)\nprint (\"Sorted array is:\")\nfor i in range(len(arr)):\n\tprint (\"%d\" %arr[i])\n",
      "metadata": {
        "trusted": true
      },
      "execution_count": 3,
      "outputs": [
        {
          "name": "stdout",
          "text": "Sorted array is:\n5\n6\n11\n12\n13\n",
          "output_type": "stream"
        }
      ]
    },
    {
      "cell_type": "code",
      "source": "# 5. Write a program to sort list of strings (similar to that of dictionary)\n\ntest_list = ['gfg', 'is', 'best']\n\n\ntest_dict = {'gfg' : 56, 'is' : 12, 'best' : 76}\n\nprint(\"The original list is : \" + str(test_list))\n\n\nprint(\"The original dictionary is : \" + str(test_dict))\n\nres = sorted(test_list, key = lambda ele: test_dict[ele])\n\nprint(\"The list after sorting : \" + str(res))\n",
      "metadata": {
        "trusted": true
      },
      "execution_count": 4,
      "outputs": [
        {
          "name": "stdout",
          "text": "The original list is : ['gfg', 'is', 'best']\nThe original dictionary is : {'gfg': 56, 'is': 12, 'best': 76}\nThe list after sorting : ['is', 'gfg', 'best']\n",
          "output_type": "stream"
        }
      ]
    },
    {
      "cell_type": "code",
      "source": "",
      "metadata": {},
      "execution_count": null,
      "outputs": []
    }
  ]
}